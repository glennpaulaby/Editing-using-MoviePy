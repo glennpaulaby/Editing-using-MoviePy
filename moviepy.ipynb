{
 "cells": [
  {
   "cell_type": "code",
   "execution_count": 102,
   "id": "57ac7524",
   "metadata": {},
   "outputs": [],
   "source": [
    "from moviepy.editor import *\n",
    "\n",
    "clip = VideoFileClip(\"sample-mp4-file.mp4\")"
   ]
  },
  {
   "cell_type": "code",
   "execution_count": 103,
   "id": "46e287bb",
   "metadata": {},
   "outputs": [],
   "source": [
    "clip = VideoFileClip(\"sample-mp4-file.mp4\").subclip(56, 66)"
   ]
  },
  {
   "cell_type": "code",
   "execution_count": 104,
   "id": "5dcce2df",
   "metadata": {},
   "outputs": [],
   "source": [
    "clip2 = VideoFileClip(\"sample-mp4-file.mp4\").subclip(70, 76)"
   ]
  },
  {
   "cell_type": "code",
   "execution_count": 105,
   "id": "2eb74668",
   "metadata": {},
   "outputs": [],
   "source": [
    "clip3 = VideoFileClip(\"sample-mp4-file.mp4\").subclip(50, 52)"
   ]
  },
  {
   "cell_type": "code",
   "execution_count": 106,
   "id": "967ec4f3",
   "metadata": {},
   "outputs": [],
   "source": [
    "clip4 = VideoFileClip(\"sample-mp4-file.mp4\").subclip(30, 35)"
   ]
  },
  {
   "cell_type": "markdown",
   "id": "c516a173",
   "metadata": {},
   "source": [
    "## Basic Concatenation"
   ]
  },
  {
   "cell_type": "code",
   "execution_count": 107,
   "id": "41f017f9",
   "metadata": {},
   "outputs": [],
   "source": [
    "final_clip = concatenate_videoclips([clip, clip2, clip3, clip4])"
   ]
  },
  {
   "cell_type": "code",
   "execution_count": 108,
   "id": "bce83a77",
   "metadata": {},
   "outputs": [
    {
     "name": "stderr",
     "output_type": "stream",
     "text": [
      "                                                                     \n",
      "chunk:  28%|██▊       | 293/1037 [8:07:19<00:38, 19.17it/s, now=None]\n",
      "                                                                     \n",
      "chunk:  28%|██▊       | 293/1037 [8:07:19<00:38, 19.17it/s, now=None]\n",
      "t:  78%|███████▊  | 270/345 [00:47<00:00, 546.29it/s, now=None]\u001b[A"
     ]
    },
    {
     "name": "stdout",
     "output_type": "stream",
     "text": [
      "Moviepy - Building video output_1.mp4.\n",
      "MoviePy - Writing audio in output_1TEMP_MPY_wvf_snd.mp3\n"
     ]
    },
    {
     "name": "stderr",
     "output_type": "stream",
     "text": [
      "\n",
      "\n",
      "chunk:   0%|          | 0/508 [00:00<?, ?it/s, now=None]\u001b[A\u001b[A\n",
      "\n",
      "chunk:   0%|          | 2/508 [00:00<00:43, 11.64it/s, now=None]\u001b[A\u001b[A\n",
      "\n",
      "chunk:  13%|█▎        | 65/508 [00:00<00:01, 280.45it/s, now=None]\u001b[A\u001b[A\n",
      "\n",
      "chunk:  29%|██▊       | 145/508 [00:00<00:00, 479.30it/s, now=None]\u001b[A\u001b[A\n",
      "\n",
      "chunk:  44%|████▎     | 222/508 [00:00<00:00, 402.62it/s, now=None]\u001b[A\u001b[A\n",
      "\n",
      "chunk:  64%|██████▎   | 323/508 [00:00<00:00, 546.70it/s, now=None]\u001b[A\u001b[A\n",
      "\n",
      "chunk:  79%|███████▊  | 399/508 [00:00<00:00, 419.14it/s, now=None]\u001b[A\u001b[A\n",
      "\n",
      "chunk:  98%|█████████▊| 500/508 [00:01<00:00, 531.96it/s, now=None]\u001b[A\u001b[A\n",
      "\n",
      "                                                                     A\u001b[A\n",
      "chunk:  28%|██▊       | 293/1037 [8:07:20<00:38, 19.17it/s, now=None]\n",
      "                                                                     \n",
      "chunk:  28%|██▊       | 293/1037 [8:07:20<00:38, 19.17it/s, now=None]\n",
      "t:  78%|███████▊  | 270/345 [00:48<00:00, 546.29it/s, now=None]\u001b[A"
     ]
    },
    {
     "name": "stdout",
     "output_type": "stream",
     "text": [
      "MoviePy - Done.\n",
      "Moviepy - Writing video output_1.mp4\n",
      "\n"
     ]
    },
    {
     "name": "stderr",
     "output_type": "stream",
     "text": [
      "\n",
      "\n",
      "t:   0%|          | 0/345 [00:00<?, ?it/s, now=None]\u001b[A\u001b[A\n",
      "\n",
      "t:  17%|█▋        | 57/345 [00:00<00:00, 521.26it/s, now=None]\u001b[A\u001b[A\n",
      "\n",
      "t:  42%|████▏     | 145/345 [00:00<00:00, 688.03it/s, now=None]\u001b[A\u001b[A\n",
      "\n",
      "t:  64%|██████▍   | 222/345 [00:00<00:00, 695.40it/s, now=None]\u001b[A\u001b[A\n",
      "\n",
      "t:  85%|████████▌ | 294/345 [00:00<00:00, 680.81it/s, now=None]\u001b[A\u001b[A\n",
      "\n",
      "                                                                     \n",
      "chunk:  28%|██▊       | 293/1037 [8:07:21<00:38, 19.17it/s, now=None]\n",
      "                                                                     \n",
      "chunk:  28%|██▊       | 293/1037 [8:07:21<00:38, 19.17it/s, now=None]\n",
      "t:  78%|███████▊  | 270/345 [00:49<00:00, 546.29it/s, now=None]\u001b[A"
     ]
    },
    {
     "name": "stdout",
     "output_type": "stream",
     "text": [
      "Moviepy - Done !\n",
      "Moviepy - video ready output_1.mp4\n"
     ]
    }
   ],
   "source": [
    "final_clip.write_videofile(\"output_1.mp4\")"
   ]
  },
  {
   "cell_type": "markdown",
   "id": "042c0fb2",
   "metadata": {},
   "source": [
    "## Adding effects"
   ]
  },
  {
   "cell_type": "code",
   "execution_count": 109,
   "id": "f63db4d4",
   "metadata": {},
   "outputs": [],
   "source": [
    "clip = (VideoFileClip(\"sample-mp4-file.mp4\").subclip(8, 20).fx(vfx.colorx, 0.7))\n",
    "\n",
    "#also do with with clip_edited = clip.fx(vfx.colorx, 0.7)"
   ]
  },
  {
   "cell_type": "code",
   "execution_count": 110,
   "id": "b3045eae",
   "metadata": {},
   "outputs": [
    {
     "name": "stderr",
     "output_type": "stream",
     "text": [
      "                                                                     \n",
      "chunk:  28%|██▊       | 293/1037 [8:07:21<00:38, 19.17it/s, now=None]\n",
      "                                                                     \n",
      "chunk:  28%|██▊       | 293/1037 [8:07:21<00:38, 19.17it/s, now=None]\n",
      "t:  78%|███████▊  | 270/345 [00:49<00:00, 546.29it/s, now=None]\u001b[A"
     ]
    },
    {
     "name": "stdout",
     "output_type": "stream",
     "text": [
      "Moviepy - Building video effect_1.mp4.\n",
      "MoviePy - Writing audio in effect_1TEMP_MPY_wvf_snd.mp3\n"
     ]
    },
    {
     "name": "stderr",
     "output_type": "stream",
     "text": [
      "\n",
      "\n",
      "chunk:   0%|          | 0/265 [00:00<?, ?it/s, now=None]\u001b[A\u001b[A\n",
      "\n",
      "chunk:  11%|█         | 28/265 [00:00<00:00, 240.58it/s, now=None]\u001b[A\u001b[A\n",
      "\n",
      "chunk:  42%|████▏     | 110/265 [00:00<00:00, 532.44it/s, now=None]\u001b[A\u001b[A\n",
      "\n",
      "chunk:  78%|███████▊  | 206/265 [00:00<00:00, 687.95it/s, now=None]\u001b[A\u001b[A\n",
      "\n",
      "                                                                     A\u001b[A\n",
      "chunk:  28%|██▊       | 293/1037 [8:07:21<00:38, 19.17it/s, now=None]\n",
      "                                                                     \n",
      "chunk:  28%|██▊       | 293/1037 [8:07:21<00:38, 19.17it/s, now=None]\n",
      "t:  78%|███████▊  | 270/345 [00:50<00:00, 546.29it/s, now=None]\u001b[A"
     ]
    },
    {
     "name": "stdout",
     "output_type": "stream",
     "text": [
      "MoviePy - Done.\n",
      "Moviepy - Writing video effect_1.mp4\n",
      "\n"
     ]
    },
    {
     "name": "stderr",
     "output_type": "stream",
     "text": [
      "\n",
      "\n",
      "t:   0%|          | 0/180 [00:00<?, ?it/s, now=None]\u001b[A\u001b[A\n",
      "\n",
      "t:   7%|▋         | 13/180 [00:00<00:01, 118.89it/s, now=None]\u001b[A\u001b[A\n",
      "\n",
      "t:  31%|███       | 55/180 [00:00<00:00, 274.89it/s, now=None]\u001b[A\u001b[A\n",
      "\n",
      "t:  52%|█████▏    | 94/180 [00:00<00:00, 312.21it/s, now=None]\u001b[A\u001b[A\n",
      "\n",
      "t:  72%|███████▏  | 130/180 [00:00<00:00, 318.89it/s, now=None]\u001b[A\u001b[A\n",
      "\n",
      "t:  93%|█████████▎| 167/180 [00:00<00:00, 321.15it/s, now=None]\u001b[A\u001b[A\n",
      "\n",
      "                                                                     \n",
      "chunk:  28%|██▊       | 293/1037 [8:07:22<00:38, 19.17it/s, now=None]\n",
      "                                                                     \n",
      "chunk:  28%|██▊       | 293/1037 [8:07:22<00:38, 19.17it/s, now=None]\n",
      "t:  78%|███████▊  | 270/345 [00:50<00:00, 546.29it/s, now=None]\u001b[A"
     ]
    },
    {
     "name": "stdout",
     "output_type": "stream",
     "text": [
      "Moviepy - Done !\n",
      "Moviepy - video ready effect_1.mp4\n"
     ]
    }
   ],
   "source": [
    "clip.write_videofile(\"effect_1.mp4\") #reduced 30% brightness "
   ]
  },
  {
   "cell_type": "code",
   "execution_count": 111,
   "id": "1ced7b2d",
   "metadata": {},
   "outputs": [],
   "source": [
    "clip1 = (VideoFileClip(\"sample-mp4-file.mp4\").subclip(8, 20).fx(vfx.colorx, 1.2) # increased 20% brighter\n",
    "        .fx(vfx.lum_contrast, 0, 40, 127))  #increase the contrast"
   ]
  },
  {
   "cell_type": "code",
   "execution_count": 112,
   "id": "a0225a87",
   "metadata": {},
   "outputs": [
    {
     "name": "stderr",
     "output_type": "stream",
     "text": [
      "                                                                     \n",
      "chunk:  28%|██▊       | 293/1037 [8:07:23<00:38, 19.17it/s, now=None]\n",
      "                                                                     \n",
      "chunk:  28%|██▊       | 293/1037 [8:07:23<00:38, 19.17it/s, now=None]\n",
      "t:  78%|███████▊  | 270/345 [00:51<00:00, 546.29it/s, now=None]\u001b[A"
     ]
    },
    {
     "name": "stdout",
     "output_type": "stream",
     "text": [
      "Moviepy - Building video effect_2.mp4.\n",
      "MoviePy - Writing audio in effect_2TEMP_MPY_wvf_snd.mp3\n"
     ]
    },
    {
     "name": "stderr",
     "output_type": "stream",
     "text": [
      "\n",
      "\n",
      "chunk:   0%|          | 0/265 [00:00<?, ?it/s, now=None]\u001b[A\u001b[A\n",
      "\n",
      "chunk:  11%|█         | 28/265 [00:00<00:00, 256.07it/s, now=None]\u001b[A\u001b[A\n",
      "\n",
      "chunk:  52%|█████▏    | 139/265 [00:00<00:00, 702.56it/s, now=None]\u001b[A\u001b[A\n",
      "\n",
      "chunk:  91%|█████████▏| 242/265 [00:00<00:00, 811.86it/s, now=None]\u001b[A\u001b[A\n",
      "\n",
      "                                                                     A\u001b[A\n",
      "chunk:  28%|██▊       | 293/1037 [8:07:23<00:38, 19.17it/s, now=None]\n",
      "                                                                     \n",
      "chunk:  28%|██▊       | 293/1037 [8:07:23<00:38, 19.17it/s, now=None]\n",
      "t:  78%|███████▊  | 270/345 [00:51<00:00, 546.29it/s, now=None]\u001b[A"
     ]
    },
    {
     "name": "stdout",
     "output_type": "stream",
     "text": [
      "MoviePy - Done.\n",
      "Moviepy - Writing video effect_2.mp4\n",
      "\n"
     ]
    },
    {
     "name": "stderr",
     "output_type": "stream",
     "text": [
      "\n",
      "\n",
      "t:   0%|          | 0/180 [00:00<?, ?it/s, now=None]\u001b[A\u001b[A\n",
      "\n",
      "t:   3%|▎         | 6/180 [00:00<00:03, 54.87it/s, now=None]\u001b[A\u001b[A\n",
      "\n",
      "t:  12%|█▏        | 21/180 [00:00<00:01, 103.28it/s, now=None]\u001b[A\u001b[A\n",
      "\n",
      "t:  19%|█▉        | 34/180 [00:00<00:01, 110.41it/s, now=None]\u001b[A\u001b[A\n",
      "\n",
      "t:  27%|██▋       | 48/180 [00:00<00:01, 117.36it/s, now=None]\u001b[A\u001b[A\n",
      "\n",
      "t:  34%|███▍      | 62/180 [00:00<00:00, 121.21it/s, now=None]\u001b[A\u001b[A\n",
      "\n",
      "t:  42%|████▏     | 76/180 [00:00<00:00, 123.53it/s, now=None]\u001b[A\u001b[A\n",
      "\n",
      "t:  51%|█████     | 92/180 [00:00<00:00, 130.98it/s, now=None]\u001b[A\u001b[A\n",
      "\n",
      "t:  59%|█████▉    | 107/180 [00:00<00:00, 132.95it/s, now=None]\u001b[A\u001b[A\n",
      "\n",
      "t:  68%|██████▊   | 122/180 [00:00<00:00, 134.27it/s, now=None]\u001b[A\u001b[A\n",
      "\n",
      "t:  76%|███████▌  | 136/180 [00:01<00:00, 126.76it/s, now=None]\u001b[A\u001b[A\n",
      "\n",
      "t:  83%|████████▎ | 150/180 [00:01<00:00, 127.13it/s, now=None]\u001b[A\u001b[A\n",
      "\n",
      "t:  91%|█████████ | 164/180 [00:01<00:00, 122.20it/s, now=None]\u001b[A\u001b[A\n",
      "\n",
      "t:  99%|█████████▉| 178/180 [00:01<00:00, 123.88it/s, now=None]\u001b[A\u001b[A\n",
      "\n",
      "                                                                     \n",
      "chunk:  28%|██▊       | 293/1037 [8:07:25<00:38, 19.17it/s, now=None]\n",
      "                                                                     \n",
      "chunk:  28%|██▊       | 293/1037 [8:07:25<00:38, 19.17it/s, now=None]\n",
      "t:  78%|███████▊  | 270/345 [00:53<00:00, 546.29it/s, now=None]\u001b[A"
     ]
    },
    {
     "name": "stdout",
     "output_type": "stream",
     "text": [
      "Moviepy - Done !\n",
      "Moviepy - video ready effect_2.mp4\n"
     ]
    }
   ],
   "source": [
    "clip1.write_videofile(\"effect_2.mp4\")"
   ]
  },
  {
   "cell_type": "code",
   "execution_count": 113,
   "id": "ba6f180c",
   "metadata": {},
   "outputs": [],
   "source": [
    "clip2 = (VideoFileClip(\"sample-mp4-file.mp4\").subclip(60, 76).fx(vfx.invert_colors))"
   ]
  },
  {
   "cell_type": "code",
   "execution_count": 125,
   "id": "bcc95536",
   "metadata": {},
   "outputs": [
    {
     "name": "stderr",
     "output_type": "stream",
     "text": [
      "                                                                     \n",
      "chunk:  28%|██▊       | 293/1037 [8:12:17<00:38, 19.17it/s, now=None]\n",
      "                                                                     \n",
      "chunk:  28%|██▊       | 293/1037 [8:12:17<00:38, 19.17it/s, now=None]\n",
      "t:  78%|███████▊  | 270/345 [05:45<00:00, 546.29it/s, now=None]\u001b[A"
     ]
    },
    {
     "name": "stdout",
     "output_type": "stream",
     "text": [
      "Moviepy - Building video output_fx.mp4.\n",
      "MoviePy - Writing audio in output_fxTEMP_MPY_wvf_snd.mp3\n"
     ]
    },
    {
     "name": "stderr",
     "output_type": "stream",
     "text": [
      "\n",
      "\n",
      "chunk:   0%|          | 0/618 [00:00<?, ?it/s, now=None]\u001b[A\u001b[A\n",
      "\n",
      "chunk:   0%|          | 2/618 [00:00<00:35, 17.32it/s, now=None]\u001b[A\u001b[A\n",
      "\n",
      "chunk:  17%|█▋        | 102/618 [00:00<00:00, 558.43it/s, now=None]\u001b[A\u001b[A\n",
      "\n",
      "chunk:  30%|██▉       | 183/618 [00:00<00:00, 666.96it/s, now=None]\u001b[A\u001b[A\n",
      "\n",
      "chunk:  43%|████▎     | 266/618 [00:00<00:00, 523.59it/s, now=None]\u001b[A\u001b[A\n",
      "\n",
      "chunk:  59%|█████▉    | 367/618 [00:00<00:00, 645.40it/s, now=None]\u001b[A\u001b[A\n",
      "\n",
      "chunk:  76%|███████▌  | 468/618 [00:00<00:00, 747.03it/s, now=None]\u001b[A\u001b[A\n",
      "\n",
      "chunk:  91%|█████████ | 562/618 [00:00<00:00, 800.78it/s, now=None]\u001b[A\u001b[A\n",
      "\n",
      "                                                                     A\u001b[A\n",
      "chunk:  28%|██▊       | 293/1037 [8:12:18<00:38, 19.17it/s, now=None]\n",
      "                                                                     \n",
      "chunk:  28%|██▊       | 293/1037 [8:12:18<00:38, 19.17it/s, now=None]\n",
      "t:  78%|███████▊  | 270/345 [05:46<00:00, 546.29it/s, now=None]\u001b[A"
     ]
    },
    {
     "name": "stdout",
     "output_type": "stream",
     "text": [
      "MoviePy - Done.\n",
      "Moviepy - Writing video output_fx.mp4\n",
      "\n"
     ]
    },
    {
     "name": "stderr",
     "output_type": "stream",
     "text": [
      "\n",
      "\n",
      "t:   0%|          | 0/420 [00:00<?, ?it/s, now=None]\u001b[A\u001b[A\n",
      "\n",
      "t:   2%|▏         | 7/420 [00:00<00:06, 66.07it/s, now=None]\u001b[A\u001b[A\n",
      "\n",
      "t:   5%|▌         | 22/420 [00:00<00:03, 112.35it/s, now=None]\u001b[A\u001b[A\n",
      "\n",
      "t:   8%|▊         | 35/420 [00:00<00:03, 119.33it/s, now=None]\u001b[A\u001b[A\n",
      "\n",
      "t:  11%|█         | 47/420 [00:00<00:03, 113.14it/s, now=None]\u001b[A\u001b[A\n",
      "\n",
      "t:  14%|█▍        | 59/420 [00:00<00:03, 111.40it/s, now=None]\u001b[A\u001b[A\n",
      "\n",
      "t:  17%|█▋        | 73/420 [00:00<00:02, 118.78it/s, now=None]\u001b[A\u001b[A\n",
      "\n",
      "t:  20%|██        | 86/420 [00:00<00:02, 120.50it/s, now=None]\u001b[A\u001b[A\n",
      "\n",
      "t:  24%|██▎       | 99/420 [00:00<00:02, 120.58it/s, now=None]\u001b[A\u001b[A\n",
      "\n",
      "t:  27%|██▋       | 113/420 [00:00<00:02, 124.61it/s, now=None]\u001b[A\u001b[A\n",
      "\n",
      "t:  30%|███       | 127/420 [00:01<00:02, 127.34it/s, now=None]\u001b[A\u001b[A\n",
      "\n",
      "t:  33%|███▎      | 140/420 [00:01<00:02, 127.11it/s, now=None]\u001b[A\u001b[A\n",
      "\n",
      "t:  37%|███▋      | 154/420 [00:01<00:02, 129.87it/s, now=None]\u001b[A\u001b[A\n",
      "\n",
      "t:  40%|████      | 169/420 [00:01<00:01, 133.15it/s, now=None]\u001b[A\u001b[A\n",
      "\n",
      "t:  44%|████▍     | 184/420 [00:01<00:02, 106.83it/s, now=None]\u001b[A\u001b[A\n",
      "\n",
      "t:  62%|██████▏   | 261/420 [00:01<00:00, 268.15it/s, now=None]\u001b[A\u001b[A\n",
      "\n",
      "t:  79%|███████▉  | 333/420 [00:01<00:00, 383.07it/s, now=None]\u001b[A\u001b[A\n",
      "\n",
      "t:  95%|█████████▍| 398/420 [00:01<00:00, 453.85it/s, now=None]\u001b[A\u001b[A\n",
      "\n",
      "                                                                     \n",
      "chunk:  28%|██▊       | 293/1037 [8:12:20<00:38, 19.17it/s, now=None]\n",
      "                                                                     \n",
      "chunk:  28%|██▊       | 293/1037 [8:12:20<00:38, 19.17it/s, now=None]\n",
      "t:  78%|███████▊  | 270/345 [05:48<00:00, 546.29it/s, now=None]\u001b[A"
     ]
    },
    {
     "name": "stdout",
     "output_type": "stream",
     "text": [
      "Moviepy - Done !\n",
      "Moviepy - video ready output_fx.mp4\n"
     ]
    }
   ],
   "source": [
    "final_clipfx = concatenate_videoclips([clip1, clip2])\n",
    "\n",
    "final_clipfx.write_videofile(\"output_fx.mp4\")"
   ]
  },
  {
   "cell_type": "markdown",
   "id": "f0b6bad6",
   "metadata": {},
   "source": [
    "## Audio effects"
   ]
  },
  {
   "cell_type": "code",
   "execution_count": 115,
   "id": "53d4d24e",
   "metadata": {},
   "outputs": [],
   "source": [
    "musicclip = AudioFileClip(\"We Are Number One Remix but by The Living Tombstone (Lazytown).mp3\").subclip(110, 145)"
   ]
  },
  {
   "cell_type": "code",
   "execution_count": 116,
   "id": "9645a6b1",
   "metadata": {},
   "outputs": [],
   "source": [
    "#to extract the audio from our first video clip\n",
    "audioclip = clip.audio"
   ]
  },
  {
   "cell_type": "code",
   "execution_count": 117,
   "id": "ab94c7b5",
   "metadata": {},
   "outputs": [],
   "source": [
    "#audioclip = (clip.audio).fx(afx.volumex, 1.2).fx(afx.audio_fadein, 1.0)\n",
    "# Make the sound 20% louder, and fade it in over 1 second\n"
   ]
  },
  {
   "cell_type": "code",
   "execution_count": 118,
   "id": "da631632",
   "metadata": {},
   "outputs": [],
   "source": [
    "clip_v2 = clip.set_audio(musicclip)  # new first clip"
   ]
  },
  {
   "cell_type": "code",
   "execution_count": 129,
   "id": "17601b16",
   "metadata": {},
   "outputs": [],
   "source": [
    "final_clip_afx = concatenate_videoclips([clip_v2,clip1, clip2])"
   ]
  },
  {
   "cell_type": "code",
   "execution_count": 130,
   "id": "39a010f7",
   "metadata": {},
   "outputs": [
    {
     "name": "stderr",
     "output_type": "stream",
     "text": [
      "                                                                     \n",
      "chunk:  28%|██▊       | 293/1037 [8:14:44<00:38, 19.17it/s, now=None]\n",
      "                                                                     \n",
      "chunk:  28%|██▊       | 293/1037 [8:14:44<00:38, 19.17it/s, now=None]\n",
      "t:  78%|███████▊  | 270/345 [08:12<00:00, 546.29it/s, now=None]\u001b[A"
     ]
    },
    {
     "name": "stdout",
     "output_type": "stream",
     "text": [
      "Moviepy - Building video output_afx.mp4.\n",
      "MoviePy - Writing audio in output_afxTEMP_MPY_wvf_snd.mp3\n"
     ]
    },
    {
     "name": "stderr",
     "output_type": "stream",
     "text": [
      "\n",
      "\n",
      "chunk:   0%|          | 0/883 [00:00<?, ?it/s, now=None]\u001b[A\u001b[A\n",
      "\n",
      "chunk:   0%|          | 2/883 [00:00<00:53, 16.47it/s, now=None]\u001b[A\u001b[A\n",
      "\n",
      "chunk:  12%|█▏        | 103/883 [00:00<00:01, 539.76it/s, now=None]\u001b[A\u001b[A\n",
      "\n",
      "chunk:  24%|██▎       | 209/883 [00:00<00:00, 761.04it/s, now=None]\u001b[A\u001b[A\n",
      "\n",
      "chunk:  33%|███▎      | 290/883 [00:00<00:00, 599.79it/s, now=None]\u001b[A\u001b[A\n",
      "\n",
      "chunk:  42%|████▏     | 367/883 [00:00<00:00, 641.07it/s, now=None]\u001b[A\u001b[A\n",
      "\n",
      "chunk:  52%|█████▏    | 458/883 [00:00<00:00, 718.31it/s, now=None]\u001b[A\u001b[A\n",
      "\n",
      "chunk:  61%|██████    | 535/883 [00:00<00:00, 564.52it/s, now=None]\u001b[A\u001b[A\n",
      "\n",
      "chunk:  70%|██████▉   | 618/883 [00:01<00:00, 626.84it/s, now=None]\u001b[A\u001b[A\n",
      "\n",
      "chunk:  79%|███████▊  | 694/883 [00:01<00:00, 659.98it/s, now=None]\u001b[A\u001b[A\n",
      "\n",
      "chunk:  87%|████████▋ | 766/883 [00:01<00:00, 647.00it/s, now=None]\u001b[A\u001b[A\n",
      "\n",
      "chunk:  95%|█████████▌| 842/883 [00:01<00:00, 676.00it/s, now=None]\u001b[A\u001b[A\n",
      "\n",
      "                                                                     A\u001b[A\n",
      "chunk:  28%|██▊       | 293/1037 [8:14:46<00:38, 19.17it/s, now=None]\n",
      "                                                                     \n",
      "chunk:  28%|██▊       | 293/1037 [8:14:46<00:38, 19.17it/s, now=None]\n",
      "t:  78%|███████▊  | 270/345 [08:14<00:00, 546.29it/s, now=None]\u001b[A"
     ]
    },
    {
     "name": "stdout",
     "output_type": "stream",
     "text": [
      "MoviePy - Done.\n",
      "Moviepy - Writing video output_afx.mp4\n",
      "\n"
     ]
    },
    {
     "name": "stderr",
     "output_type": "stream",
     "text": [
      "\n",
      "\n",
      "t:   0%|          | 0/600 [00:00<?, ?it/s, now=None]\u001b[A\u001b[A\n",
      "\n",
      "t:   3%|▎         | 17/600 [00:00<00:03, 167.70it/s, now=None]\u001b[A\u001b[A\n",
      "\n",
      "t:   9%|▉         | 54/600 [00:00<00:01, 280.71it/s, now=None]\u001b[A\u001b[A\n",
      "\n",
      "t:  14%|█▍        | 87/600 [00:00<00:01, 301.38it/s, now=None]\u001b[A\u001b[A\n",
      "\n",
      "t:  20%|█▉        | 118/600 [00:00<00:01, 296.13it/s, now=None]\u001b[A\u001b[A\n",
      "\n",
      "t:  25%|██▌       | 151/600 [00:00<00:01, 306.65it/s, now=None]\u001b[A\u001b[A\n",
      "\n",
      "t:  30%|███       | 182/600 [00:00<00:01, 222.85it/s, now=None]\u001b[A\u001b[A\n",
      "\n",
      "t:  35%|███▍      | 208/600 [00:00<00:02, 190.86it/s, now=None]\u001b[A\u001b[A\n",
      "\n",
      "t:  38%|███▊      | 230/600 [00:01<00:02, 171.16it/s, now=None]\u001b[A\u001b[A\n",
      "\n",
      "t:  42%|████▏     | 249/600 [00:01<00:02, 164.54it/s, now=None]\u001b[A\u001b[A\n",
      "\n",
      "t:  44%|████▍     | 267/600 [00:01<00:02, 150.29it/s, now=None]\u001b[A\u001b[A\n",
      "\n",
      "t:  47%|████▋     | 283/600 [00:01<00:02, 148.87it/s, now=None]\u001b[A\u001b[A\n",
      "\n",
      "t:  50%|████▉     | 299/600 [00:01<00:02, 146.26it/s, now=None]\u001b[A\u001b[A\n",
      "\n",
      "t:  52%|█████▏    | 314/600 [00:01<00:01, 146.89it/s, now=None]\u001b[A\u001b[A\n",
      "\n",
      "t:  55%|█████▍    | 329/600 [00:01<00:01, 146.36it/s, now=None]\u001b[A\u001b[A\n",
      "\n",
      "t:  57%|█████▋    | 344/600 [00:01<00:01, 139.33it/s, now=None]\u001b[A\u001b[A\n",
      "\n",
      "t:  60%|█████▉    | 359/600 [00:02<00:01, 140.02it/s, now=None]\u001b[A\u001b[A\n",
      "\n",
      "t:  62%|██████▎   | 375/600 [00:02<00:01, 134.64it/s, now=None]\u001b[A\u001b[A\n",
      "\n",
      "t:  75%|███████▌  | 451/600 [00:02<00:00, 300.14it/s, now=None]\u001b[A\u001b[A\n",
      "\n",
      "t:  88%|████████▊ | 528/600 [00:02<00:00, 428.32it/s, now=None]\u001b[A\u001b[A\n",
      "\n",
      "t:  99%|█████████▉| 596/600 [00:02<00:00, 496.73it/s, now=None]\u001b[A\u001b[A\n",
      "\n",
      "                                                                     \n",
      "chunk:  28%|██▊       | 293/1037 [8:14:48<00:38, 19.17it/s, now=None]\n",
      "                                                                     \n",
      "chunk:  28%|██▊       | 293/1037 [8:14:48<00:38, 19.17it/s, now=None]\n",
      "t:  78%|███████▊  | 270/345 [08:16<00:00, 546.29it/s, now=None]\u001b[A"
     ]
    },
    {
     "name": "stdout",
     "output_type": "stream",
     "text": [
      "Moviepy - Done !\n",
      "Moviepy - video ready output_afx.mp4\n"
     ]
    }
   ],
   "source": [
    "final_clip_afx.write_videofile(\"output_afx.mp4\")\n"
   ]
  },
  {
   "cell_type": "code",
   "execution_count": 143,
   "id": "b9319c19",
   "metadata": {},
   "outputs": [
    {
     "name": "stderr",
     "output_type": "stream",
     "text": [
      "                                                                     \n",
      "chunk:  28%|██▊       | 293/1037 [8:20:50<00:38, 19.17it/s, now=None]\n",
      "                                                                     \n",
      "chunk:  28%|██▊       | 293/1037 [8:20:50<00:38, 19.17it/s, now=None]\n",
      "t:  78%|███████▊  | 270/345 [14:19<00:00, 546.29it/s, now=None]\u001b[A"
     ]
    },
    {
     "name": "stdout",
     "output_type": "stream",
     "text": [
      "Moviepy - Building video all_effects.mp4.\n",
      "MoviePy - Writing audio in all_effectsTEMP_MPY_wvf_snd.mp3\n"
     ]
    },
    {
     "name": "stderr",
     "output_type": "stream",
     "text": [
      "\n",
      "\n",
      "chunk:   0%|          | 0/883 [00:00<?, ?it/s, now=None]\u001b[A\u001b[A\n",
      "\n",
      "chunk:   0%|          | 2/883 [00:00<00:56, 15.72it/s, now=None]\u001b[A\u001b[A\n",
      "\n",
      "chunk:  12%|█▏        | 103/883 [00:00<00:01, 529.62it/s, now=None]\u001b[A\u001b[A\n",
      "\n",
      "chunk:  23%|██▎       | 200/883 [00:00<00:00, 716.34it/s, now=None]\u001b[A\u001b[A\n",
      "\n",
      "chunk:  31%|███▏      | 276/883 [00:00<00:01, 497.19it/s, now=None]\u001b[A\u001b[A\n",
      "\n",
      "chunk:  41%|████      | 360/883 [00:00<00:00, 587.89it/s, now=None]\u001b[A\u001b[A\n",
      "\n",
      "chunk:  49%|████▉     | 433/883 [00:00<00:00, 625.91it/s, now=None]\u001b[A\u001b[A\n",
      "\n",
      "chunk:  59%|█████▉    | 519/883 [00:00<00:00, 690.65it/s, now=None]\u001b[A\u001b[A\n",
      "\n",
      "chunk:  67%|██████▋   | 594/883 [00:01<00:00, 560.85it/s, now=None]\u001b[A\u001b[A\n",
      "\n",
      "chunk:  77%|███████▋  | 680/883 [00:01<00:00, 633.17it/s, now=None]\u001b[A\u001b[A\n",
      "\n",
      "chunk:  85%|████████▌ | 751/883 [00:01<00:00, 633.81it/s, now=None]\u001b[A\u001b[A\n",
      "\n",
      "chunk:  95%|█████████▍| 836/883 [00:01<00:00, 686.08it/s, now=None]\u001b[A\u001b[A\n",
      "\n",
      "                                                                     A\u001b[A\n",
      "chunk:  28%|██▊       | 293/1037 [8:20:52<00:38, 19.17it/s, now=None]\n",
      "                                                                     \n",
      "chunk:  28%|██▊       | 293/1037 [8:20:52<00:38, 19.17it/s, now=None]\n",
      "t:  78%|███████▊  | 270/345 [14:20<00:00, 546.29it/s, now=None]\u001b[A"
     ]
    },
    {
     "name": "stdout",
     "output_type": "stream",
     "text": [
      "MoviePy - Done.\n",
      "Moviepy - Writing video all_effects.mp4\n",
      "\n"
     ]
    },
    {
     "name": "stderr",
     "output_type": "stream",
     "text": [
      "\n",
      "\n",
      "t:   0%|          | 0/600 [00:00<?, ?it/s, now=None]\u001b[A\u001b[A\n",
      "\n",
      "t:   0%|          | 2/600 [00:00<00:38, 15.43it/s, now=None]\u001b[A\u001b[A\n",
      "\n",
      "t:   6%|▋         | 39/600 [00:00<00:02, 198.17it/s, now=None]\u001b[A\u001b[A\n",
      "\n",
      "t:  12%|█▏        | 73/600 [00:00<00:02, 253.44it/s, now=None]\u001b[A\u001b[A\n",
      "\n",
      "t:  17%|█▋        | 103/600 [00:00<00:01, 270.02it/s, now=None]\u001b[A\u001b[A\n",
      "\n",
      "t:  22%|██▏       | 132/600 [00:00<00:01, 275.48it/s, now=None]\u001b[A\u001b[A\n",
      "\n",
      "t:  27%|██▋       | 161/600 [00:00<00:01, 267.90it/s, now=None]\u001b[A\u001b[A\n",
      "\n",
      "t:  32%|███▏      | 189/600 [00:00<00:02, 180.51it/s, now=None]\u001b[A\u001b[A\n",
      "\n",
      "t:  35%|███▌      | 211/600 [00:01<00:02, 162.24it/s, now=None]\u001b[A\u001b[A\n",
      "\n",
      "t:  38%|███▊      | 230/600 [00:01<00:02, 150.55it/s, now=None]\u001b[A\u001b[A\n",
      "\n",
      "t:  41%|████      | 247/600 [00:01<00:02, 146.59it/s, now=None]\u001b[A\u001b[A\n",
      "\n",
      "t:  44%|████▍     | 263/600 [00:01<00:02, 143.86it/s, now=None]\u001b[A\u001b[A\n",
      "\n",
      "t:  46%|████▋     | 279/600 [00:01<00:02, 136.45it/s, now=None]\u001b[A\u001b[A\n",
      "\n",
      "t:  49%|████▉     | 294/600 [00:01<00:02, 135.25it/s, now=None]\u001b[A\u001b[A\n",
      "\n",
      "t:  52%|█████▏    | 309/600 [00:01<00:02, 136.31it/s, now=None]\u001b[A\u001b[A\n",
      "\n",
      "t:  54%|█████▍    | 323/600 [00:01<00:02, 137.00it/s, now=None]\u001b[A\u001b[A\n",
      "\n",
      "t:  56%|█████▌    | 337/600 [00:02<00:01, 136.46it/s, now=None]\u001b[A\u001b[A\n",
      "\n",
      "t:  58%|█████▊    | 351/600 [00:02<00:01, 136.39it/s, now=None]\u001b[A\u001b[A\n",
      "\n",
      "t:  61%|██████    | 365/600 [00:02<00:02, 111.29it/s, now=None]\u001b[A\u001b[A\n",
      "\n",
      "t:  72%|███████▎  | 435/600 [00:02<00:00, 255.24it/s, now=None]\u001b[A\u001b[A\n",
      "\n",
      "t:  85%|████████▌ | 511/600 [00:02<00:00, 385.34it/s, now=None]\u001b[A\u001b[A\n",
      "\n",
      "t:  96%|█████████▋| 579/600 [00:02<00:00, 463.94it/s, now=None]\u001b[A\u001b[A\n",
      "\n",
      "                                                                     \n",
      "chunk:  28%|██▊       | 293/1037 [8:20:55<00:38, 19.17it/s, now=None]\n",
      "                                                                     \n",
      "chunk:  28%|██▊       | 293/1037 [8:20:55<00:38, 19.17it/s, now=None]\n",
      "t:  78%|███████▊  | 270/345 [14:23<00:00, 546.29it/s, now=None]\u001b[A"
     ]
    },
    {
     "name": "stdout",
     "output_type": "stream",
     "text": [
      "Moviepy - Done !\n",
      "Moviepy - video ready all_effects.mp4\n"
     ]
    }
   ],
   "source": [
    "final_clip_concate = final_clip_afx\n",
    "final_clip_concate.write_videofile(\"all_effects.mp4\")\n"
   ]
  },
  {
   "cell_type": "code",
   "execution_count": null,
   "id": "5d6e7431",
   "metadata": {},
   "outputs": [],
   "source": []
  }
 ],
 "metadata": {
  "kernelspec": {
   "display_name": "Python 3 (ipykernel)",
   "language": "python",
   "name": "python3"
  },
  "language_info": {
   "codemirror_mode": {
    "name": "ipython",
    "version": 3
   },
   "file_extension": ".py",
   "mimetype": "text/x-python",
   "name": "python",
   "nbconvert_exporter": "python",
   "pygments_lexer": "ipython3",
   "version": "3.9.12"
  }
 },
 "nbformat": 4,
 "nbformat_minor": 5
}
